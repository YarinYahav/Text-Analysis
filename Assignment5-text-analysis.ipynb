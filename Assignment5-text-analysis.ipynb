{
 "cells": [
  {
   "cell_type": "markdown",
   "metadata": {},
   "source": [
    "# Assignment 5 - Text Analysis\n",
    "An explanation this assignment could be found in the .pdf explanation document"
   ]
  },
  {
   "cell_type": "markdown",
   "metadata": {},
   "source": [
    "\n",
    "## Materials to review for this assignment\n",
    "<h4>From Moodle:</h4> \n",
    "<h5><u>Review the notebooks regarding the following python topics</u>:</h5>\n",
    "<div class=\"alert alert-info\">\n",
    "&#x2714; <b>Working with strings</b> (tutorial notebook)<br/>\n",
    "&#x2714; <b>Text Analysis</b> (tutorial notebook)<br/>\n",
    "&#x2714; <b>Hebrew text analysis tools (tokenizer, wordnet)</b> (moodle example)<br/>\n",
    "&#x2714; <b>(brief review) All previous notebooks</b><br/>\n",
    "</div> \n",
    "<h5><u>Review the presentations regarding the following topics</u>:</h5>\n",
    "<div class=\"alert alert-info\">\n",
    "&#x2714; <b>Text Analysis</b> (lecture presentation)<br/>\n",
    "&#x2714; <b>(brief review) All other presentations</b><br/>\n",
    "</div>"
   ]
  },
  {
   "cell_type": "markdown",
   "metadata": {},
   "source": [
    "## Preceding Step - import modules (packages)\n",
    "This step is necessary in order to use external modules (packages). <br/>"
   ]
  },
  {
   "cell_type": "code",
   "execution_count": 1,
   "metadata": {},
   "outputs": [],
   "source": [
    "# --------------------------------------\n",
    "import pandas as pd\n",
    "import numpy as np\n",
    "# --------------------------------------\n",
    "\n",
    "\n",
    "# --------------------------------------\n",
    "# ------------- visualizations:\n",
    "import seaborn as sns\n",
    "import matplotlib.pyplot as plt\n",
    "from matplotlib.colors import ListedColormap\n",
    "# --------------------------------------\n",
    "\n",
    "\n",
    "# ---------------------------------------\n",
    "import sklearn\n",
    "from sklearn import preprocessing, metrics, pipeline, model_selection, feature_extraction \n",
    "from sklearn import naive_bayes, linear_model, svm, neural_network, neighbors, tree\n",
    "from sklearn import decomposition, cluster\n",
    "\n",
    "from sklearn.model_selection import train_test_split, cross_val_score, GridSearchCV \n",
    "from sklearn.pipeline import Pipeline\n",
    "from sklearn.metrics import accuracy_score, confusion_matrix\n",
    "from sklearn.metrics import precision_score, recall_score, f1_score\n",
    "from sklearn.metrics import mean_squared_error, r2_score, silhouette_score\n",
    "from sklearn.preprocessing import MinMaxScaler, StandardScaler, LabelEncoder\n",
    "\n",
    "from sklearn.svm import LinearSVC\n",
    "from sklearn.neural_network import MLPClassifier\n",
    "from sklearn.linear_model import Perceptron, SGDClassifier\n",
    "from sklearn.decomposition import PCA\n",
    "from sklearn.cluster import KMeans\n",
    "from sklearn.naive_bayes import MultinomialNB, GaussianNB\n",
    "from sklearn.neighbors import KNeighborsClassifier\n",
    "from sklearn.tree import DecisionTreeClassifier\n",
    "# ---------------------------------------\n",
    "from sklearn.svm import SVC\n",
    "from sklearn.feature_selection import SelectKBest, chi2 ,mutual_info_classif\n",
    "from sklearn.linear_model import LogisticRegression\n",
    "from sklearn.model_selection import  cross_validate ,RepeatedKFold , RepeatedStratifiedKFold\n",
    "from sklearn.ensemble import StackingClassifier,BaggingClassifier\n",
    "from numpy import mean ,std\n",
    "from matplotlib import pyplot\n",
    "\n",
    "# ----------------- output and visualizations: \n",
    "import warnings\n",
    "from sklearn.exceptions import ConvergenceWarning\n",
    "warnings.simplefilter(\"ignore\")\n",
    "warnings.simplefilter(action='ignore', category=FutureWarning)\n",
    "warnings.simplefilter(\"ignore\", category=ConvergenceWarning)\n",
    "# show several prints in one cell. This will allow us to condence every trick in one cell.\n",
    "from IPython.core.interactiveshell import InteractiveShell\n",
    "InteractiveShell.ast_node_interactivity = \"all\"\n",
    "%matplotlib inline\n",
    "pd.pandas.set_option('display.max_columns', None)\n",
    "pd.set_option('display.float_format', lambda x: '%.3f' % x)\n",
    "# ---------------------------------------"
   ]
  },
  {
   "cell_type": "markdown",
   "metadata": {},
   "source": [
    "### Text analysis and String manipulation imports:"
   ]
  },
  {
   "cell_type": "code",
   "execution_count": 2,
   "metadata": {},
   "outputs": [],
   "source": [
    "# --------------------------------------\n",
    "# --------- Text analysis and Hebrew text analysis imports:\n",
    "# vectorizers:\n",
    "from sklearn.feature_extraction import text\n",
    "from sklearn.feature_extraction.text import CountVectorizer, TfidfVectorizer\n",
    "\n",
    "# regular expressions:\n",
    "import re\n",
    "# --------------------------------------"
   ]
  },
  {
   "cell_type": "markdown",
   "metadata": {},
   "source": [
    "### (optional) Hebrew text analysis - WordNet (for Hebrew)\n",
    "Note: the WordNet is not a must"
   ]
  },
  {
   "cell_type": "markdown",
   "metadata": {},
   "source": [
    "#### (optional) Only if you didn't install Wordnet (for Hebrew) use:"
   ]
  },
  {
   "cell_type": "code",
   "execution_count": 3,
   "metadata": {},
   "outputs": [],
   "source": [
    "# word net installation:\n",
    "\n",
    "# unmark if you want to use and need to install\n",
    "# !pip install wn\n",
    "# !python -m wn download omw-he:1.4"
   ]
  },
  {
   "cell_type": "code",
   "execution_count": 4,
   "metadata": {},
   "outputs": [],
   "source": [
    "# word net import:\n",
    "\n",
    "# unmark if you want to use:\n",
    "# import wn"
   ]
  },
  {
   "cell_type": "markdown",
   "metadata": {},
   "source": [
    "### (optional) Hebrew text analysis - hebrew_tokenizer (Tokenizer for Hebrew)\n",
    "Note: the hebrew_tokenizer is not a must"
   ]
  },
  {
   "cell_type": "markdown",
   "metadata": {},
   "source": [
    "#### (optional) Only if you didn't install hebrew_tokenizer use:"
   ]
  },
  {
   "cell_type": "code",
   "execution_count": 5,
   "metadata": {},
   "outputs": [],
   "source": [
    "# Hebrew tokenizer installation:\n",
    "\n",
    "# unmark if you want to use and need to install:\n",
    "#!pip install hebrew_tokenizer"
   ]
  },
  {
   "cell_type": "code",
   "execution_count": 6,
   "metadata": {},
   "outputs": [
    {
     "name": "stdout",
     "output_type": "stream",
     "text": [
      "C:\\Users\\yahav\n"
     ]
    }
   ],
   "source": [
    "# Hebrew tokenizer import:\n",
    "\n",
    "# unmark if you want to use:\n",
    "import hebrew_tokenizer as ht"
   ]
  },
  {
   "cell_type": "markdown",
   "metadata": {},
   "source": [
    "### Reading input files\n",
    "Reading input files for train annotated corpus (raw text data) corpus and for the test corpus"
   ]
  },
  {
   "cell_type": "code",
   "execution_count": 7,
   "metadata": {},
   "outputs": [],
   "source": [
    "train_filename = 'annotated_corpus_for_train.csv'\n",
    "test_filename  = 'corpus_for_test.csv'\n",
    "df_train = pd.read_csv(train_filename, index_col=None, encoding='utf-8')\n",
    "df_test  = pd.read_csv(test_filename, index_col=None, encoding='utf-8')"
   ]
  },
  {
   "cell_type": "code",
   "execution_count": 8,
   "metadata": {},
   "outputs": [
    {
     "data": {
      "text/html": [
       "<div>\n",
       "<style scoped>\n",
       "    .dataframe tbody tr th:only-of-type {\n",
       "        vertical-align: middle;\n",
       "    }\n",
       "\n",
       "    .dataframe tbody tr th {\n",
       "        vertical-align: top;\n",
       "    }\n",
       "\n",
       "    .dataframe thead th {\n",
       "        text-align: right;\n",
       "    }\n",
       "</style>\n",
       "<table border=\"1\" class=\"dataframe\">\n",
       "  <thead>\n",
       "    <tr style=\"text-align: right;\">\n",
       "      <th></th>\n",
       "      <th>story</th>\n",
       "      <th>gender</th>\n",
       "    </tr>\n",
       "  </thead>\n",
       "  <tbody>\n",
       "    <tr>\n",
       "      <th>0</th>\n",
       "      <td>כשחבר הזמין אותי לחול, לא באמת חשבתי שזה יקרה,...</td>\n",
       "      <td>m</td>\n",
       "    </tr>\n",
       "    <tr>\n",
       "      <th>1</th>\n",
       "      <td>לפני שהתגייסתי לצבא עשיתי כל מני מיונים ליחידו...</td>\n",
       "      <td>m</td>\n",
       "    </tr>\n",
       "    <tr>\n",
       "      <th>2</th>\n",
       "      <td>מאז שהתחילו הלימודים חלומו של כל סטודנט זה הפנ...</td>\n",
       "      <td>f</td>\n",
       "    </tr>\n",
       "    <tr>\n",
       "      <th>3</th>\n",
       "      <td>כשהייתי ילד, מטוסים היה הדבר שהכי ריתק אותי. ב...</td>\n",
       "      <td>m</td>\n",
       "    </tr>\n",
       "    <tr>\n",
       "      <th>4</th>\n",
       "      <td>‏הייתי מדריכה בכפר נוער ומתאם הכפר היינו צריכי...</td>\n",
       "      <td>f</td>\n",
       "    </tr>\n",
       "    <tr>\n",
       "      <th>5</th>\n",
       "      <td>לפני כ3 חודשים טסתי לרומא למשך שבוע. טסתי במטו...</td>\n",
       "      <td>f</td>\n",
       "    </tr>\n",
       "    <tr>\n",
       "      <th>6</th>\n",
       "      <td>אני כבר שנתיים נשוי והשנה אני ואישתי סוף סוף י...</td>\n",
       "      <td>m</td>\n",
       "    </tr>\n",
       "    <tr>\n",
       "      <th>7</th>\n",
       "      <td>השנה התחלנו שיפוץ בדירה שלנו בתל אביב. הדירה ה...</td>\n",
       "      <td>f</td>\n",
       "    </tr>\n",
       "  </tbody>\n",
       "</table>\n",
       "</div>"
      ],
      "text/plain": [
       "                                               story gender\n",
       "0  כשחבר הזמין אותי לחול, לא באמת חשבתי שזה יקרה,...      m\n",
       "1  לפני שהתגייסתי לצבא עשיתי כל מני מיונים ליחידו...      m\n",
       "2  מאז שהתחילו הלימודים חלומו של כל סטודנט זה הפנ...      f\n",
       "3  כשהייתי ילד, מטוסים היה הדבר שהכי ריתק אותי. ב...      m\n",
       "4  ‏הייתי מדריכה בכפר נוער ומתאם הכפר היינו צריכי...      f\n",
       "5  לפני כ3 חודשים טסתי לרומא למשך שבוע. טסתי במטו...      f\n",
       "6  אני כבר שנתיים נשוי והשנה אני ואישתי סוף סוף י...      m\n",
       "7  השנה התחלנו שיפוץ בדירה שלנו בתל אביב. הדירה ה...      f"
      ]
     },
     "execution_count": 8,
     "metadata": {},
     "output_type": "execute_result"
    },
    {
     "data": {
      "text/plain": [
       "(753, 2)"
      ]
     },
     "execution_count": 8,
     "metadata": {},
     "output_type": "execute_result"
    }
   ],
   "source": [
    "df_train.head(8)\n",
    "df_train.shape"
   ]
  },
  {
   "cell_type": "code",
   "execution_count": 9,
   "metadata": {},
   "outputs": [
    {
     "data": {
      "text/html": [
       "<div>\n",
       "<style scoped>\n",
       "    .dataframe tbody tr th:only-of-type {\n",
       "        vertical-align: middle;\n",
       "    }\n",
       "\n",
       "    .dataframe tbody tr th {\n",
       "        vertical-align: top;\n",
       "    }\n",
       "\n",
       "    .dataframe thead th {\n",
       "        text-align: right;\n",
       "    }\n",
       "</style>\n",
       "<table border=\"1\" class=\"dataframe\">\n",
       "  <thead>\n",
       "    <tr style=\"text-align: right;\">\n",
       "      <th></th>\n",
       "      <th>test_example_id</th>\n",
       "      <th>story</th>\n",
       "    </tr>\n",
       "  </thead>\n",
       "  <tbody>\n",
       "    <tr>\n",
       "      <th>0</th>\n",
       "      <td>0</td>\n",
       "      <td>כל קיץ אני והמשפחה נוסעים לארצות הברית לוס אנג...</td>\n",
       "    </tr>\n",
       "    <tr>\n",
       "      <th>1</th>\n",
       "      <td>1</td>\n",
       "      <td>הגעתי לשירות המדינה אחרי שנתיים כפעיל בתנועת \"...</td>\n",
       "    </tr>\n",
       "    <tr>\n",
       "      <th>2</th>\n",
       "      <td>2</td>\n",
       "      <td>אחת האהבות הגדולות שלי אלו הכלבים שלי ושל אישת...</td>\n",
       "    </tr>\n",
       "  </tbody>\n",
       "</table>\n",
       "</div>"
      ],
      "text/plain": [
       "   test_example_id                                              story\n",
       "0                0  כל קיץ אני והמשפחה נוסעים לארצות הברית לוס אנג...\n",
       "1                1  הגעתי לשירות המדינה אחרי שנתיים כפעיל בתנועת \"...\n",
       "2                2  אחת האהבות הגדולות שלי אלו הכלבים שלי ושל אישת..."
      ]
     },
     "execution_count": 9,
     "metadata": {},
     "output_type": "execute_result"
    },
    {
     "data": {
      "text/plain": [
       "(323, 2)"
      ]
     },
     "execution_count": 9,
     "metadata": {},
     "output_type": "execute_result"
    }
   ],
   "source": [
    "df_test.head(3)\n",
    "df_test.shape"
   ]
  },
  {
   "cell_type": "markdown",
   "metadata": {},
   "source": [
    "### Your implementation:\n",
    "Write your code solution in the following code-cells"
   ]
  },
  {
   "cell_type": "code",
   "execution_count": 10,
   "metadata": {},
   "outputs": [],
   "source": [
    "# Parameters for each model we try:\n",
    "params = {'lr': {'C': [0.01, 0.1, 1, 10, 100,200], 'penalty': ['l1', 'l2', 'elasticnet', 'none'],\n",
    "                'class_weight':['balanced',None],'solver':['newton-cg', 'lbfgs', 'liblinear', 'sag', 'saga'],\n",
    "                 'multi_class':['auto', 'ovr', 'multinomial']},\n",
    "          'knn': {'n_neighbors': [3, 5, 7], 'weights': ['uniform', 'distance'],\n",
    "                  'algorithm':['auto', 'ball_tree', 'kd_tree', 'brute']},\n",
    "          'cart': {'max_depth': [3, 5, 7], 'criterion': ['gini', 'entropy']\n",
    "                   ,'splitter':[\"best\", \"random\"],'max_features':[None,\"auto\", \"sqrt\", \"log2\"],\n",
    "                    'class_weight':[None,\"balanced\", \"balanced_subsample\"],\n",
    "                   'random_state':[0,42,None]},\n",
    "          'svm': {'C': [0.01, 0.1, 1, 10, 100], 'kernel': ['linear', 'rbf','poly','sigmoid',],\n",
    "                  'random_state':[0,42,None],'gamma':['scale', 'auto'],'class_weight':['balanced',None]\n",
    "                  ,'decision_function_shape':['ovo', 'ovr']},\n",
    "          'LinearSVC': {'C': [0.01, 0.1, 1, 10, 100], 'penalty': ['l1', 'l2'], 'dual': [False,True],\n",
    "                        'loss':['hinge', 'squared_hinge'],'multi_class':['ovr', 'crammer_singer'],\n",
    "                         'class_weight':['balanced',None],'random_state':[0,42,None]},\n",
    "          'MLPClassifier': {'hidden_layer_sizes': [(50,50,50), (50,100,50), (100,)],\n",
    "                            'activation': ['tanh', 'relu','identity', 'logistic'],\n",
    "                            'solver': ['sgd', 'adam','lbfgs'],'random_state':[0,42,None],\n",
    "                            'alpha': [0.0001, 0.05],\n",
    "                            'learning_rate': ['constant','adaptive','invscaling']},\n",
    "          'Perceptron': {'alpha': [0.0001, 0.05], 'penalty': [None, 'l2', 'l1', 'elasticnet']\n",
    "                        ,'random_state':[0,42,None],'class_weight':['balanced',None],\n",
    "                         'early_stopping':[False,True],'shuffle':[False,True]},\n",
    "          'SGDClassifier': {'loss': ['hinge', 'log', 'modified_huber', 'squared_hinge', 'perceptron',\n",
    "                                     'squared_loss', 'huber', 'epsilon_insensitive', 'squared_epsilon_insensitive'],\n",
    "                            'penalty': ['l2', 'l1', 'elasticnet'],\n",
    "                            'alpha': [0.0001, 0.05],\n",
    "                            'shuffle':[False,True],'early_stopping':[False,True]},\n",
    "           'MultinomialNB':{'alpha':[1,0.1,0.01,0.001,0.0001,0.00001],'fit_prior':[True,False]}}\n",
    "\n",
    "# List of models we try on our data\n",
    "models_list = {'lr': LogisticRegression(),\n",
    "            'knn': KNeighborsClassifier(),\n",
    "            'cart': DecisionTreeClassifier(),\n",
    "            'svm': SVC(),\n",
    "            'LinearSVC':LinearSVC(),\n",
    "            'MLPClassifier':MLPClassifier(),\n",
    "            'Perceptron':Perceptron(),\n",
    "            'SGDClassifier':SGDClassifier(),\n",
    "            'MultinomialNB':MultinomialNB()}\n",
    "\n",
    "# Function that uses the hebrew_tokenizer to tokenize the text\n",
    "def tokenize_text(text):\n",
    "    tokens = ht.tokenize(text)\n",
    "    return tokens\n"
   ]
  },
  {
   "cell_type": "code",
   "execution_count": 11,
   "metadata": {},
   "outputs": [
    {
     "data": {
      "text/plain": [
       "SelectKBest(k=1000,\n",
       "            score_func=<function mutual_info_classif at 0x0000026416E81280>)"
      ]
     },
     "execution_count": 11,
     "metadata": {},
     "output_type": "execute_result"
    }
   ],
   "source": [
    "# Choosing which vectorizer to uze:\n",
    "vectorizer = 'TfidfVectorizer'\n",
    "#vectorizer = 'CountVectorizer'\n",
    "\n",
    "train_file_name = 'annotated_corpus_for_train.csv'\n",
    "df = pd.read_csv(train_file_name, index_col=None, encoding='utf-8') \n",
    "\n",
    "# Removing all of the numbers,punctuations from the train set\n",
    "r = re.compile(r'[^\\w\\s]')\n",
    "df['story'] = [r.sub('',s) for s in df['story'].tolist()]\n",
    "r = re.compile(r'\\d+')\n",
    "df['story'] = [r.sub('',s) for s in df['story'].tolist()]\n",
    "r = re.compile(r'\\s+')\n",
    "df['story'] = df['story'].str.strip()\n",
    "\n",
    "# Spliting the train set into X_train, X_test, y_train, y_test\n",
    "X_train, X_test, y_train, y_test = train_test_split(df['story'], df['gender'], test_size=0.2, random_state=42)\n",
    "\n",
    "\n",
    "# Vectorize the text data using the vectorizer we chose above  \n",
    "if vectorizer == 'TfidfVectorizer':\n",
    "    vectorizer = TfidfVectorizer(min_df= 5 ,ngram_range= (1,1))\n",
    "    \n",
    "if vectorizer == 'CountVectorizer':\n",
    "    vectorizer = CountVectorizer(min_df= 5)\n",
    "        \n",
    "X_train_vectorized = vectorizer.fit_transform(X_train)\n",
    "X_test_vectorized = vectorizer.transform(X_test)\n",
    "\n",
    "\n",
    "# Perform feature selection using mutual information\n",
    "selector = SelectKBest(mutual_info_classif, k=1000) \n",
    "selector.fit(X_train_vectorized, y_train)\n",
    "\n",
    "# Apply feature selection to the vectorized data\n",
    "X_train_selected = selector.transform(X_train_vectorized)\n",
    "X_test_selected = selector.transform(X_test_vectorized)\n",
    "\n",
    "# Scaling the data by using MinMaxScaler\n",
    "scaler = MinMaxScaler()\n",
    "    \n",
    "X_train_scaled = scaler.fit_transform(X_train_selected.toarray())\n",
    "X_test_scaled = scaler.transform(X_test_selected.toarray())\n",
    "    "
   ]
  },
  {
   "cell_type": "code",
   "execution_count": 12,
   "metadata": {},
   "outputs": [
    {
     "name": "stdout",
     "output_type": "stream",
     "text": [
      "lr\n"
     ]
    },
    {
     "data": {
      "text/plain": [
       "GridSearchCV(cv=5, estimator=LogisticRegression(), n_jobs=-1,\n",
       "             param_grid={'C': [0.01, 0.1, 1, 10, 100, 200],\n",
       "                         'class_weight': ['balanced', None],\n",
       "                         'multi_class': ['auto', 'ovr', 'multinomial'],\n",
       "                         'penalty': ['l1', 'l2', 'elasticnet', 'none'],\n",
       "                         'solver': ['newton-cg', 'lbfgs', 'liblinear', 'sag',\n",
       "                                    'saga']})"
      ]
     },
     "execution_count": 12,
     "metadata": {},
     "output_type": "execute_result"
    },
    {
     "name": "stdout",
     "output_type": "stream",
     "text": [
      "knn\n"
     ]
    },
    {
     "data": {
      "text/plain": [
       "GridSearchCV(cv=5, estimator=KNeighborsClassifier(), n_jobs=-1,\n",
       "             param_grid={'algorithm': ['auto', 'ball_tree', 'kd_tree', 'brute'],\n",
       "                         'n_neighbors': [3, 5, 7],\n",
       "                         'weights': ['uniform', 'distance']})"
      ]
     },
     "execution_count": 12,
     "metadata": {},
     "output_type": "execute_result"
    },
    {
     "name": "stdout",
     "output_type": "stream",
     "text": [
      "cart\n"
     ]
    },
    {
     "data": {
      "text/plain": [
       "GridSearchCV(cv=5, estimator=DecisionTreeClassifier(), n_jobs=-1,\n",
       "             param_grid={'class_weight': [None, 'balanced',\n",
       "                                          'balanced_subsample'],\n",
       "                         'criterion': ['gini', 'entropy'],\n",
       "                         'max_depth': [3, 5, 7],\n",
       "                         'max_features': [None, 'auto', 'sqrt', 'log2'],\n",
       "                         'random_state': [0, 42, None],\n",
       "                         'splitter': ['best', 'random']})"
      ]
     },
     "execution_count": 12,
     "metadata": {},
     "output_type": "execute_result"
    },
    {
     "name": "stdout",
     "output_type": "stream",
     "text": [
      "svm\n"
     ]
    },
    {
     "data": {
      "text/plain": [
       "GridSearchCV(cv=5, estimator=SVC(), n_jobs=-1,\n",
       "             param_grid={'C': [0.01, 0.1, 1, 10, 100],\n",
       "                         'class_weight': ['balanced', None],\n",
       "                         'decision_function_shape': ['ovo', 'ovr'],\n",
       "                         'gamma': ['scale', 'auto'],\n",
       "                         'kernel': ['linear', 'rbf', 'poly', 'sigmoid'],\n",
       "                         'random_state': [0, 42, None]})"
      ]
     },
     "execution_count": 12,
     "metadata": {},
     "output_type": "execute_result"
    },
    {
     "name": "stdout",
     "output_type": "stream",
     "text": [
      "LinearSVC\n"
     ]
    },
    {
     "data": {
      "text/plain": [
       "GridSearchCV(cv=5, estimator=LinearSVC(), n_jobs=-1,\n",
       "             param_grid={'C': [0.01, 0.1, 1, 10, 100],\n",
       "                         'class_weight': ['balanced', None],\n",
       "                         'dual': [False, True],\n",
       "                         'loss': ['hinge', 'squared_hinge'],\n",
       "                         'multi_class': ['ovr', 'crammer_singer'],\n",
       "                         'penalty': ['l1', 'l2'],\n",
       "                         'random_state': [0, 42, None]})"
      ]
     },
     "execution_count": 12,
     "metadata": {},
     "output_type": "execute_result"
    },
    {
     "name": "stdout",
     "output_type": "stream",
     "text": [
      "MLPClassifier\n"
     ]
    },
    {
     "data": {
      "text/plain": [
       "GridSearchCV(cv=5, estimator=MLPClassifier(), n_jobs=-1,\n",
       "             param_grid={'activation': ['tanh', 'relu', 'identity', 'logistic'],\n",
       "                         'alpha': [0.0001, 0.05],\n",
       "                         'hidden_layer_sizes': [(50, 50, 50), (50, 100, 50),\n",
       "                                                (100,)],\n",
       "                         'learning_rate': ['constant', 'adaptive',\n",
       "                                           'invscaling'],\n",
       "                         'random_state': [0, 42, None],\n",
       "                         'solver': ['sgd', 'adam', 'lbfgs']})"
      ]
     },
     "execution_count": 12,
     "metadata": {},
     "output_type": "execute_result"
    },
    {
     "name": "stdout",
     "output_type": "stream",
     "text": [
      "Perceptron\n"
     ]
    },
    {
     "data": {
      "text/plain": [
       "GridSearchCV(cv=5, estimator=Perceptron(), n_jobs=-1,\n",
       "             param_grid={'alpha': [0.0001, 0.05],\n",
       "                         'class_weight': ['balanced', None],\n",
       "                         'early_stopping': [False, True],\n",
       "                         'penalty': [None, 'l2', 'l1', 'elasticnet'],\n",
       "                         'random_state': [0, 42, None],\n",
       "                         'shuffle': [False, True]})"
      ]
     },
     "execution_count": 12,
     "metadata": {},
     "output_type": "execute_result"
    },
    {
     "name": "stdout",
     "output_type": "stream",
     "text": [
      "SGDClassifier\n"
     ]
    },
    {
     "data": {
      "text/plain": [
       "GridSearchCV(cv=5, estimator=SGDClassifier(), n_jobs=-1,\n",
       "             param_grid={'alpha': [0.0001, 0.05],\n",
       "                         'early_stopping': [False, True],\n",
       "                         'loss': ['hinge', 'log', 'modified_huber',\n",
       "                                  'squared_hinge', 'perceptron', 'squared_loss',\n",
       "                                  'huber', 'epsilon_insensitive',\n",
       "                                  'squared_epsilon_insensitive'],\n",
       "                         'penalty': ['l2', 'l1', 'elasticnet'],\n",
       "                         'shuffle': [False, True]})"
      ]
     },
     "execution_count": 12,
     "metadata": {},
     "output_type": "execute_result"
    },
    {
     "name": "stdout",
     "output_type": "stream",
     "text": [
      "MultinomialNB\n"
     ]
    },
    {
     "data": {
      "text/plain": [
       "GridSearchCV(cv=5, estimator=MultinomialNB(), n_jobs=-1,\n",
       "             param_grid={'alpha': [1, 0.1, 0.01, 0.001, 0.0001, 1e-05],\n",
       "                         'fit_prior': [True, False]})"
      ]
     },
     "execution_count": 12,
     "metadata": {},
     "output_type": "execute_result"
    }
   ],
   "source": [
    "# Finding best parameters from each model by using GridSearchCV\n",
    "best_params = {}\n",
    "for name, model in models_list.items():\n",
    "    print(name)\n",
    "    clf = GridSearchCV(model, params[name], cv=5, n_jobs=-1)\n",
    "    clf.fit(X_train_selected, y_train)\n",
    "    best_params[name] = clf.best_params_"
   ]
  },
  {
   "cell_type": "code",
   "execution_count": 13,
   "metadata": {},
   "outputs": [
    {
     "data": {
      "text/plain": [
       "{'lr': {'C': 200,\n",
       "  'class_weight': None,\n",
       "  'multi_class': 'auto',\n",
       "  'penalty': 'l2',\n",
       "  'solver': 'saga'},\n",
       " 'knn': {'algorithm': 'auto', 'n_neighbors': 3, 'weights': 'distance'},\n",
       " 'cart': {'class_weight': None,\n",
       "  'criterion': 'entropy',\n",
       "  'max_depth': 3,\n",
       "  'max_features': None,\n",
       "  'random_state': None,\n",
       "  'splitter': 'random'},\n",
       " 'svm': {'C': 100,\n",
       "  'class_weight': 'balanced',\n",
       "  'decision_function_shape': 'ovo',\n",
       "  'gamma': 'scale',\n",
       "  'kernel': 'linear',\n",
       "  'random_state': 0},\n",
       " 'LinearSVC': {'C': 100,\n",
       "  'class_weight': None,\n",
       "  'dual': True,\n",
       "  'loss': 'squared_hinge',\n",
       "  'multi_class': 'ovr',\n",
       "  'penalty': 'l2',\n",
       "  'random_state': 42},\n",
       " 'MLPClassifier': {'activation': 'logistic',\n",
       "  'alpha': 0.05,\n",
       "  'hidden_layer_sizes': (100,),\n",
       "  'learning_rate': 'adaptive',\n",
       "  'random_state': None,\n",
       "  'solver': 'lbfgs'},\n",
       " 'Perceptron': {'alpha': 0.0001,\n",
       "  'class_weight': None,\n",
       "  'early_stopping': False,\n",
       "  'penalty': 'l2',\n",
       "  'random_state': 0,\n",
       "  'shuffle': False},\n",
       " 'SGDClassifier': {'alpha': 0.0001,\n",
       "  'early_stopping': False,\n",
       "  'loss': 'hinge',\n",
       "  'penalty': 'elasticnet',\n",
       "  'shuffle': True},\n",
       " 'MultinomialNB': {'alpha': 1, 'fit_prior': False}}"
      ]
     },
     "execution_count": 13,
     "metadata": {},
     "output_type": "execute_result"
    }
   ],
   "source": [
    "best_params"
   ]
  },
  {
   "cell_type": "code",
   "execution_count": 14,
   "metadata": {},
   "outputs": [
    {
     "data": {
      "text/plain": [
       "{'lr': LogisticRegression(C=200, solver='saga'),\n",
       " 'knn': KNeighborsClassifier(n_neighbors=3, weights='distance'),\n",
       " 'cart': DecisionTreeClassifier(criterion='entropy', max_depth=3, splitter='random'),\n",
       " 'svm': SVC(C=100, class_weight='balanced', decision_function_shape='ovo',\n",
       "     kernel='linear', random_state=0),\n",
       " 'LinearSVC': LinearSVC(C=100, random_state=42),\n",
       " 'MLPClassifier': MLPClassifier(activation='logistic', alpha=0.05, learning_rate='adaptive',\n",
       "               solver='lbfgs'),\n",
       " 'Perceptron': Perceptron(penalty='l2', shuffle=False),\n",
       " 'SGDClassifier': SGDClassifier(penalty='elasticnet'),\n",
       " 'MultinomialNB': MultinomialNB(alpha=1, fit_prior=False)}"
      ]
     },
     "execution_count": 14,
     "metadata": {},
     "output_type": "execute_result"
    }
   ],
   "source": [
    "# Making a dictionary that have all the models we want to try and there best parameters.\n",
    "models = dict()\n",
    "models['lr'] = LogisticRegression(**best_params['lr'])\n",
    "models['knn'] = KNeighborsClassifier(**best_params['knn'])\n",
    "models['cart'] = DecisionTreeClassifier(**best_params['cart'])\n",
    "models['svm'] = SVC(**best_params['svm'])\n",
    "models['LinearSVC'] = LinearSVC(**best_params['LinearSVC'])\n",
    "models['MLPClassifier'] = MLPClassifier(**best_params['MLPClassifier'])\n",
    "models['Perceptron'] = Perceptron(**best_params['Perceptron'])\n",
    "models['SGDClassifier'] = SGDClassifier(**best_params['SGDClassifier'])\n",
    "models['MultinomialNB'] = MultinomialNB(**best_params['MultinomialNB'])\n",
    "\n",
    "models"
   ]
  },
  {
   "cell_type": "code",
   "execution_count": 15,
   "metadata": {},
   "outputs": [
    {
     "data": {
      "text/plain": [
       "{'lr': LogisticRegression(C=200, solver='saga'),\n",
       " 'knn': KNeighborsClassifier(n_neighbors=3, weights='distance'),\n",
       " 'cart': DecisionTreeClassifier(criterion='entropy', max_depth=3, splitter='random'),\n",
       " 'svm': SVC(C=100, class_weight='balanced', decision_function_shape='ovo',\n",
       "     kernel='linear', random_state=0),\n",
       " 'LinearSVC': LinearSVC(C=100, random_state=42),\n",
       " 'MLPClassifier': MLPClassifier(activation='logistic', alpha=0.05, learning_rate='adaptive',\n",
       "               solver='lbfgs'),\n",
       " 'Perceptron': Perceptron(penalty='l2', shuffle=False),\n",
       " 'SGDClassifier': SGDClassifier(penalty='elasticnet'),\n",
       " 'MultinomialNB': MultinomialNB(alpha=1, fit_prior=False),\n",
       " 'stacking': StackingClassifier(cv=5,\n",
       "                    estimators=[('lr_bagging',\n",
       "                                 BaggingClassifier(base_estimator=LogisticRegression(C=200,\n",
       "                                                                                     solver='saga'),\n",
       "                                                   max_samples=0.8,\n",
       "                                                   n_estimators=100)),\n",
       "                                ('knn_bagging',\n",
       "                                 BaggingClassifier(base_estimator=KNeighborsClassifier(n_neighbors=3,\n",
       "                                                                                       weights='distance'),\n",
       "                                                   max_samples=0.8,\n",
       "                                                   n_estimators=100)),\n",
       "                                ('cart_bagging',\n",
       "                                 BaggingClassifier(base_estimator=Decis...\n",
       "                                                   n_estimators=100)),\n",
       "                                ('SGDClassifier_bagging',\n",
       "                                 BaggingClassifier(base_estimator=SGDClassifier(penalty='elasticnet'),\n",
       "                                                   max_samples=0.8,\n",
       "                                                   n_estimators=100)),\n",
       "                                ('MLPClassifier',\n",
       "                                 MLPClassifier(activation='logistic', alpha=0.05,\n",
       "                                               learning_rate='adaptive',\n",
       "                                               solver='lbfgs')),\n",
       "                                ('Perceptron',\n",
       "                                 Perceptron(penalty='l2', shuffle=False))],\n",
       "                    final_estimator=LogisticRegression(C=200, solver='saga'))}"
      ]
     },
     "execution_count": 15,
     "metadata": {},
     "output_type": "execute_result"
    }
   ],
   "source": [
    "# Get a stacking ensemble of models\n",
    "# I Learned about the stacking model from here: https://machinelearningmastery.com/stacking-ensemble-machine-learning-with-python/#\n",
    "level0 = []\n",
    "level0.append(('lr_bagging', BaggingClassifier(base_estimator=LogisticRegression(**best_params['lr']), n_estimators=100, max_samples=0.8, oob_score=False)))\n",
    "level0.append(('knn_bagging', BaggingClassifier(base_estimator=KNeighborsClassifier(**best_params['knn']), n_estimators=100, max_samples=0.8, oob_score=False)))\n",
    "level0.append(('cart_bagging', BaggingClassifier(base_estimator=DecisionTreeClassifier(**best_params['cart']), n_estimators=100, max_samples=0.8, oob_score=False)))\n",
    "level0.append(('svm_bagging', BaggingClassifier(base_estimator=SVC(**best_params['svm']), n_estimators=100, max_samples=0.8, oob_score=False)))\n",
    "level0.append(('LinearSVC_bagging', BaggingClassifier(base_estimator=LinearSVC(**best_params['LinearSVC']), n_estimators=100, max_samples=0.8, oob_score=False)))\n",
    "level0.append(('SGDClassifier_bagging', BaggingClassifier(base_estimator=SGDClassifier(**best_params['SGDClassifier']), n_estimators=100, max_samples=0.8, oob_score=False)))\n",
    "level0.append(('MLPClassifier', MLPClassifier(**best_params['MLPClassifier'])))\n",
    "level0.append(('Perceptron', Perceptron(**best_params['Perceptron'])))\n",
    "#level0.append(('MultinomialNB',BaggingClassifier(base_estimator=MultinomialNB(**best_params['MultinomialNB']), n_estimators=100, max_samples=0.8, oob_score=False) ))\n",
    "#level0.append(('MultinomialNB',MultinomialNB(**best_params['MultinomialNB'])))\n",
    "\n",
    "level1 = LogisticRegression(**best_params['lr'])\n",
    "\n",
    "models['stacking'] = StackingClassifier(estimators=level0, final_estimator=level1, cv=5)\n",
    "\n",
    "models"
   ]
  },
  {
   "cell_type": "code",
   "execution_count": 16,
   "metadata": {},
   "outputs": [
    {
     "name": "stdout",
     "output_type": "stream",
     "text": [
      "LogisticRegression(C=200, solver='saga')\n",
      "lr Accuracy: 0.748 (0.079)\n",
      "F1 Score female: 0.491\n",
      "F1 Score male: 0.882\n",
      ">F1 Score average_f1: 0.686\n",
      "\n",
      "\n",
      "\n",
      "KNeighborsClassifier(n_neighbors=3, weights='distance')\n",
      "knn Accuracy: 0.757 (0.090)\n",
      "F1 Score female: 0.000\n",
      "F1 Score male: 0.860\n",
      ">F1 Score average_f1: 0.430\n",
      "\n",
      "\n",
      "\n",
      "DecisionTreeClassifier(criterion='entropy', max_depth=3, splitter='random')\n",
      "cart Accuracy: 0.702 (0.071)\n",
      "F1 Score female: 0.190\n",
      "F1 Score male: 0.869\n",
      ">F1 Score average_f1: 0.530\n",
      "\n",
      "\n",
      "\n",
      "SVC(C=100, class_weight='balanced', decision_function_shape='ovo',\n",
      "    kernel='linear', random_state=0)\n",
      "svm Accuracy: 0.762 (0.084)\n",
      "F1 Score female: 0.462\n",
      "F1 Score male: 0.852\n",
      ">F1 Score average_f1: 0.657\n",
      "\n",
      "\n",
      "\n",
      "LinearSVC(C=100, random_state=42)\n",
      "LinearSVC Accuracy: 0.757 (0.085)\n",
      "F1 Score female: 0.492\n",
      "F1 Score male: 0.861\n",
      ">F1 Score average_f1: 0.677\n",
      "\n",
      "\n",
      "\n",
      "MLPClassifier(activation='logistic', alpha=0.05, learning_rate='adaptive',\n",
      "              solver='lbfgs')\n",
      "MLPClassifier Accuracy: 0.759 (0.093)\n",
      "F1 Score female: 0.483\n",
      "F1 Score male: 0.877\n",
      ">F1 Score average_f1: 0.680\n",
      "\n",
      "\n",
      "\n",
      "Perceptron(penalty='l2', shuffle=False)\n",
      "Perceptron Accuracy: 0.746 (0.100)\n",
      "F1 Score female: 0.519\n",
      "F1 Score male: 0.836\n",
      ">F1 Score average_f1: 0.678\n",
      "\n",
      "\n",
      "\n",
      "SGDClassifier(penalty='elasticnet')\n",
      "SGDClassifier Accuracy: 0.759 (0.089)\n",
      "F1 Score female: 0.508\n",
      "F1 Score male: 0.870\n",
      ">F1 Score average_f1: 0.689\n",
      "\n",
      "\n",
      "\n",
      "MultinomialNB(alpha=1, fit_prior=False)\n",
      "MultinomialNB Accuracy: 0.748 (0.088)\n",
      "F1 Score female: 0.146\n",
      "F1 Score male: 0.866\n",
      ">F1 Score average_f1: 0.506\n",
      "\n",
      "\n",
      "\n",
      "StackingClassifier(cv=5,\n",
      "                   estimators=[('lr_bagging',\n",
      "                                BaggingClassifier(base_estimator=LogisticRegression(C=200,\n",
      "                                                                                    solver='saga'),\n",
      "                                                  max_samples=0.8,\n",
      "                                                  n_estimators=100)),\n",
      "                               ('knn_bagging',\n",
      "                                BaggingClassifier(base_estimator=KNeighborsClassifier(n_neighbors=3,\n",
      "                                                                                      weights='distance'),\n",
      "                                                  max_samples=0.8,\n",
      "                                                  n_estimators=100)),\n",
      "                               ('cart_bagging',\n",
      "                                BaggingClassifier(base_estimator=Decis...\n",
      "                                                  n_estimators=100)),\n",
      "                               ('SGDClassifier_bagging',\n",
      "                                BaggingClassifier(base_estimator=SGDClassifier(penalty='elasticnet'),\n",
      "                                                  max_samples=0.8,\n",
      "                                                  n_estimators=100)),\n",
      "                               ('MLPClassifier',\n",
      "                                MLPClassifier(activation='logistic', alpha=0.05,\n",
      "                                              learning_rate='adaptive',\n",
      "                                              solver='lbfgs')),\n",
      "                               ('Perceptron',\n",
      "                                Perceptron(penalty='l2', shuffle=False))],\n",
      "                   final_estimator=LogisticRegression(C=200, solver='saga'))\n",
      "stacking Accuracy: 0.748 (0.067)\n",
      "F1 Score female: 0.586\n",
      "F1 Score male: 0.902\n",
      ">F1 Score average_f1: 0.744\n",
      "\n",
      "\n",
      "\n"
     ]
    }
   ],
   "source": [
    "conf_mat = []\n",
    "\n",
    "# Evaluate the models and store the results\n",
    "results, names = list(), list()\n",
    "y_predict = list()\n",
    "score = {}\n",
    "for name, model in models.items():\n",
    "    model_train = model.fit(X_train_selected , y_train)\n",
    "    cv = RepeatedKFold(n_splits=5, n_repeats=3, random_state=42)\n",
    "    scores = cross_val_score(model_train, X_test_selected, y_test, scoring='accuracy', cv=cv, n_jobs=-1,error_score='raise')\n",
    "    y_pred = model_train.predict(X_test_selected)\n",
    "    print(model_train)\n",
    "    \n",
    "    f1_male = f1_score(y_test, y_pred, pos_label='m')\n",
    "    f1_female = f1_score(y_test, y_pred, pos_label='f')\n",
    "    average_f1=(f1_male + f1_female)/2\n",
    "    \n",
    "    conf_mat = confusion_matrix(y_test, y_pred)\n",
    "\n",
    "    scores =  {'Accuracy': {'mean': mean(scores),'std': std(scores)},\n",
    "            'F1 Score (male)': f1_male,\n",
    "            'F1 Score (female)': f1_female,\n",
    "            'Confusion Matrix': conf_mat,\n",
    "            'scores':scores ,\n",
    "            'y_pred':y_pred,\n",
    "            'average_f1':average_f1,\n",
    "            'model':model_train}\n",
    "    \n",
    "    \n",
    "    results.append(scores['scores'])\n",
    "    names.append(name)\n",
    "    score[name] = scores\n",
    "    y_predict.append(scores['y_pred'])\n",
    "    print('%s Accuracy: %.3f (%.3f)' % (name, scores['Accuracy']['mean'], scores['Accuracy']['std']))\n",
    "    print('F1 Score female: %.3f' % (scores['F1 Score (female)']))\n",
    "    print('F1 Score male: %.3f' % (scores['F1 Score (male)']))\n",
    "    print('>F1 Score average_f1: %.3f\\n\\n\\n' % (scores['average_f1']))\n",
    "    \n",
    "    "
   ]
  },
  {
   "cell_type": "code",
   "execution_count": 17,
   "metadata": {},
   "outputs": [
    {
     "data": {
      "image/png": "[encoded data removed]",
      "text/plain": [
       "<Figure size 1100x500 with 1 Axes>"
      ]
     },
     "metadata": {},
     "output_type": "display_data"
    }
   ],
   "source": [
    "# Plot model performance for comparison\n",
    "pyplot.figure(figsize=(11,5))\n",
    "pyplot.boxplot(results, labels=names, showmeans=True)\n",
    "pyplot.show();"
   ]
  },
  {
   "cell_type": "code",
   "execution_count": 18,
   "metadata": {},
   "outputs": [],
   "source": [
    "df_test  = pd.read_csv(test_filename, index_col=None, encoding='utf-8')"
   ]
  },
  {
   "cell_type": "code",
   "execution_count": 19,
   "metadata": {},
   "outputs": [],
   "source": [
    "# Removing all of the numbers,punctuations from the test set\n",
    "r = re.compile(r'[^\\w\\s]')\n",
    "df_test['story'] = [r.sub('',s) for s in df_test['story'].tolist()]\n",
    "r = re.compile(r'\\d+')\n",
    "df_test['story'] = [r.sub('',s) for s in df_test['story'].tolist()]\n",
    "r = re.compile(r'\\s+')\n",
    "df_test['story'] = df_test['story'].str.strip()\n",
    "\n",
    "# Vectorize the text data using the vectorizer we chose above \n",
    "if vectorizer == 'TfidfVectorizer':\n",
    "        vectorizer = TfidfVectorizer(min_df= 5 ,ngram_range= (1,1))\n",
    "    \n",
    "if vectorizer == 'CountVectorizer':\n",
    "        vectorizer = CountVectorizer(min_df= 5)\n",
    "\n",
    "X_test = df['story']\n",
    "X_test_vect = vectorizer.fit_transform(X_test)\n",
    "\n",
    "# Perform feature selection using mutual information\n",
    "selector = SelectKBest(mutual_info_classif, k=1000)\n",
    "X_test_selected = selector.fit_transform(X_test_vect, np.zeros(X_test_vect.shape[0]))\n",
    "\n",
    "# Scaling the data by using MinMaxScaler\n",
    "scaler = MinMaxScaler()\n",
    "\n",
    "X_test_scaled = scaler.fit_transform(X_test_selected.toarray())"
   ]
  },
  {
   "cell_type": "code",
   "execution_count": 20,
   "metadata": {},
   "outputs": [
    {
     "name": "stdout",
     "output_type": "stream",
     "text": [
      "<Model: lr>\n",
      "f    388\n",
      "m    365\n",
      "Name: predicted gender, dtype: int64\n",
      "\n",
      "\n",
      "<Model: knn>\n",
      "m    680\n",
      "f     73\n",
      "Name: predicted gender, dtype: int64\n",
      "\n",
      "\n",
      "<Model: cart>\n",
      "m    737\n",
      "f     16\n",
      "Name: predicted gender, dtype: int64\n",
      "\n",
      "\n",
      "<Model: svm>\n",
      "f    440\n",
      "m    313\n",
      "Name: predicted gender, dtype: int64\n",
      "\n",
      "\n",
      "<Model: LinearSVC>\n",
      "f    435\n",
      "m    318\n",
      "Name: predicted gender, dtype: int64\n",
      "\n",
      "\n",
      "<Model: MLPClassifier>\n",
      "f    417\n",
      "m    336\n",
      "Name: predicted gender, dtype: int64\n",
      "\n",
      "\n",
      "<Model: Perceptron>\n",
      "f    409\n",
      "m    344\n",
      "Name: predicted gender, dtype: int64\n",
      "\n",
      "\n",
      "<Model: SGDClassifier>\n",
      "f    418\n",
      "m    335\n",
      "Name: predicted gender, dtype: int64\n",
      "\n",
      "\n",
      "<Model: MultinomialNB>\n",
      "f    682\n",
      "m     71\n",
      "Name: predicted gender, dtype: int64\n",
      "\n",
      "\n",
      "<Model: stacking>\n",
      "f    444\n",
      "m    309\n",
      "Name: predicted gender, dtype: int64\n",
      "\n",
      "\n"
     ]
    }
   ],
   "source": [
    "df_predict_dict = {}\n",
    "for mod in score:\n",
    "    y_pred = score[mod]['model'].predict(X_test_scaled)\n",
    "    df_prediction = pd.DataFrame({'story': X_test, 'predicted gender': y_pred})\n",
    "    print(f\"<Model: {mod}>\")\n",
    "    print(df_prediction['predicted gender'].value_counts())\n",
    "    print(\"\\n\")\n",
    "    df_predict_dict[mod] = df_prediction\n",
    "\n",
    "\n",
    "df_predicted = df_predict_dict['stacking']"
   ]
  },
  {
   "cell_type": "code",
   "execution_count": 21,
   "metadata": {},
   "outputs": [
    {
     "data": {
      "text/html": [
       "<div>\n",
       "<style scoped>\n",
       "    .dataframe tbody tr th:only-of-type {\n",
       "        vertical-align: middle;\n",
       "    }\n",
       "\n",
       "    .dataframe tbody tr th {\n",
       "        vertical-align: top;\n",
       "    }\n",
       "\n",
       "    .dataframe thead th {\n",
       "        text-align: right;\n",
       "    }\n",
       "</style>\n",
       "<table border=\"1\" class=\"dataframe\">\n",
       "  <thead>\n",
       "    <tr style=\"text-align: right;\">\n",
       "      <th></th>\n",
       "      <th>story</th>\n",
       "      <th>predicted gender</th>\n",
       "    </tr>\n",
       "  </thead>\n",
       "  <tbody>\n",
       "    <tr>\n",
       "      <th>0</th>\n",
       "      <td>כשחבר הזמין אותי לחול לא באמת חשבתי שזה יקרה פ...</td>\n",
       "      <td>f</td>\n",
       "    </tr>\n",
       "    <tr>\n",
       "      <th>1</th>\n",
       "      <td>לפני שהתגייסתי לצבא עשיתי כל מני מיונים ליחידו...</td>\n",
       "      <td>f</td>\n",
       "    </tr>\n",
       "    <tr>\n",
       "      <th>2</th>\n",
       "      <td>מאז שהתחילו הלימודים חלומו של כל סטודנט זה הפנ...</td>\n",
       "      <td>f</td>\n",
       "    </tr>\n",
       "    <tr>\n",
       "      <th>3</th>\n",
       "      <td>כשהייתי ילד מטוסים היה הדבר שהכי ריתק אותי בתו...</td>\n",
       "      <td>m</td>\n",
       "    </tr>\n",
       "    <tr>\n",
       "      <th>4</th>\n",
       "      <td>הייתי מדריכה בכפר נוער ומתאם הכפר היינו צריכים...</td>\n",
       "      <td>f</td>\n",
       "    </tr>\n",
       "  </tbody>\n",
       "</table>\n",
       "</div>"
      ],
      "text/plain": [
       "                                               story predicted gender\n",
       "0  כשחבר הזמין אותי לחול לא באמת חשבתי שזה יקרה פ...                f\n",
       "1  לפני שהתגייסתי לצבא עשיתי כל מני מיונים ליחידו...                f\n",
       "2  מאז שהתחילו הלימודים חלומו של כל סטודנט זה הפנ...                f\n",
       "3  כשהייתי ילד מטוסים היה הדבר שהכי ריתק אותי בתו...                m\n",
       "4  הייתי מדריכה בכפר נוער ומתאם הכפר היינו צריכים...                f"
      ]
     },
     "execution_count": 21,
     "metadata": {},
     "output_type": "execute_result"
    }
   ],
   "source": [
    "df_predicted.head()"
   ]
  },
  {
   "cell_type": "code",
   "execution_count": 22,
   "metadata": {},
   "outputs": [
    {
     "data": {
      "text/html": [
       "<div>\n",
       "<style scoped>\n",
       "    .dataframe tbody tr th:only-of-type {\n",
       "        vertical-align: middle;\n",
       "    }\n",
       "\n",
       "    .dataframe tbody tr th {\n",
       "        vertical-align: top;\n",
       "    }\n",
       "\n",
       "    .dataframe thead th {\n",
       "        text-align: right;\n",
       "    }\n",
       "</style>\n",
       "<table border=\"1\" class=\"dataframe\">\n",
       "  <thead>\n",
       "    <tr style=\"text-align: right;\">\n",
       "      <th></th>\n",
       "      <th>story</th>\n",
       "      <th>predicted gender</th>\n",
       "    </tr>\n",
       "  </thead>\n",
       "  <tbody>\n",
       "    <tr>\n",
       "      <th>748</th>\n",
       "      <td>אז לפני שנה בדיוק טסתי לאמסטרדם עם שני חברים ט...</td>\n",
       "      <td>f</td>\n",
       "    </tr>\n",
       "    <tr>\n",
       "      <th>749</th>\n",
       "      <td>שבוע שעבר העליתי באופן ספונטני רעיון לנסוע עם ...</td>\n",
       "      <td>f</td>\n",
       "    </tr>\n",
       "    <tr>\n",
       "      <th>750</th>\n",
       "      <td>לפני חודש עברנו לדירה בבית שמש בעקבות משפחתי ה...</td>\n",
       "      <td>f</td>\n",
       "    </tr>\n",
       "    <tr>\n",
       "      <th>751</th>\n",
       "      <td>החוויה אותה ארצה לשתף התרחשה לפני כמה חודשים ז...</td>\n",
       "      <td>f</td>\n",
       "    </tr>\n",
       "    <tr>\n",
       "      <th>752</th>\n",
       "      <td>פעם כשהייתי בחו ל בקבולומביה כחלק מהטיול שלי ל...</td>\n",
       "      <td>f</td>\n",
       "    </tr>\n",
       "  </tbody>\n",
       "</table>\n",
       "</div>"
      ],
      "text/plain": [
       "                                                 story predicted gender\n",
       "748  אז לפני שנה בדיוק טסתי לאמסטרדם עם שני חברים ט...                f\n",
       "749  שבוע שעבר העליתי באופן ספונטני רעיון לנסוע עם ...                f\n",
       "750  לפני חודש עברנו לדירה בבית שמש בעקבות משפחתי ה...                f\n",
       "751  החוויה אותה ארצה לשתף התרחשה לפני כמה חודשים ז...                f\n",
       "752  פעם כשהייתי בחו ל בקבולומביה כחלק מהטיול שלי ל...                f"
      ]
     },
     "execution_count": 22,
     "metadata": {},
     "output_type": "execute_result"
    }
   ],
   "source": [
    "df_predicted.tail()"
   ]
  },
  {
   "cell_type": "markdown",
   "metadata": {},
   "source": [
    "### Save output to csv (optional)\n",
    "After you're done save your output to the 'classification_results.csv' csv file.<br/>\n",
    "We assume that the dataframe with your results contain the following columns:\n",
    "* column 1 (left column): 'test_example_id'  - the same id associated to each of the test stories to be predicted.\n",
    "* column 2 (right column): 'predicted_category' - the predicted gender value for each of the associated story. \n",
    "\n",
    "Assuming your predicted values are in the `df_predicted` dataframe, you should save you're results as following:"
   ]
  },
  {
   "cell_type": "code",
   "execution_count": 23,
   "metadata": {},
   "outputs": [],
   "source": [
    "df_predicted.to_csv('classification_results.csv',index=False)"
   ]
  }
 ],
 "metadata": {
  "celltoolbar": "Create Assignment",
  "kernelspec": {
   "display_name": "Python 3 (ipykernel)",
   "language": "python",
   "name": "python3"
  },
  "language_info": {
   "codemirror_mode": {
    "name": "ipython",
    "version": 3
   },
   "file_extension": ".py",
   "mimetype": "text/x-python",
   "name": "python",
   "nbconvert_exporter": "python",
   "pygments_lexer": "ipython3",
   "version": "3.9.13"
  }
 },
 "nbformat": 4,
 "nbformat_minor": 4
}
